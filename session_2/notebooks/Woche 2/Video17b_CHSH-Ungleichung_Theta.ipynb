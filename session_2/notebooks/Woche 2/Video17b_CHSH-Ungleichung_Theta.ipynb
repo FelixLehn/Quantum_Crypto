{
 "cells": [
  {
   "cell_type": "markdown",
   "metadata": {},
   "source": [
    "## CHSH-Ungleichung in Abhängigkeit vom Winkel\n",
    "\n",
    "Der Beispiel-Code ist adaptiert "
   ]
  },
  {
   "cell_type": "code",
   "execution_count": 1,
   "metadata": {},
   "outputs": [],
   "source": [
    "import qiskit\n",
    "from qiskit import QuantumCircuit, ClassicalRegister, QuantumRegister, transpile, execute, Aer, IBMQ\n",
    "from qiskit.tools.visualization import circuit_drawer\n",
    "from qiskit.visualization import plot_histogram\n",
    "\n",
    "#import python stuff\n",
    "import matplotlib.pyplot as plt\n",
    "import numpy as np"
   ]
  },
  {
   "cell_type": "code",
   "execution_count": 2,
   "metadata": {},
   "outputs": [],
   "source": [
    "def make_circuit(theta0, theta1):\n",
    "    qc = QuantumCircuit(2,2)\n",
    "\n",
    "    qc.h(0)\n",
    "    qc.cx(0, 1)\n",
    "\n",
    "    if theta0 != 0 :\n",
    "        qc.ry(2*theta0, 0)\n",
    "\n",
    "    if theta1 != 0 :\n",
    "        qc.ry(2*theta1, 1)\n",
    "\n",
    "    qc.measure(range(2),range(2))\n",
    "    \n",
    "    return qc"
   ]
  },
  {
   "cell_type": "code",
   "execution_count": 3,
   "metadata": {},
   "outputs": [],
   "source": [
    "def make_circuits(theta_sequenz):\n",
    "    circuits = []\n",
    "    \n",
    "    for theta in theta_sequenz:\n",
    "        circuits.append( make_circuit(0, theta) )\n",
    "        circuits.append( make_circuit(0, -theta) )\n",
    "        circuits.append( make_circuit(2*theta, theta) )\n",
    "        circuits.append( make_circuit(2*theta, -theta) )\n",
    "        \n",
    "    return circuits"
   ]
  },
  {
   "cell_type": "code",
   "execution_count": 4,
   "metadata": {},
   "outputs": [],
   "source": [
    "def Cor(counts, shots):\n",
    "    result = 0;\n",
    "    \n",
    "    if '00' in counts:\n",
    "        result += counts['00']\n",
    "    if '01' in counts:\n",
    "        result -= counts['01']\n",
    "    if '10' in counts:\n",
    "        result -= counts['10']\n",
    "    if '11' in counts:\n",
    "        result += counts['11']\n",
    "\n",
    "    return result/shots"
   ]
  },
  {
   "cell_type": "code",
   "execution_count": 5,
   "metadata": {},
   "outputs": [],
   "source": [
    "number_of_thetas = 32\n",
    "theta_sequence = np.linspace(0,np.pi/2,number_of_thetas)\n",
    "my_circuits = make_circuits(theta_sequence)"
   ]
  },
  {
   "cell_type": "code",
   "execution_count": 6,
   "metadata": {},
   "outputs": [],
   "source": [
    "shots = 5000\n",
    "\n",
    "backend = Aer.get_backend('qasm_simulator')"
   ]
  },
  {
   "cell_type": "code",
   "execution_count": 7,
   "metadata": {},
   "outputs": [],
   "source": [
    "theta_vec = []\n",
    "cor_vec = []\n",
    "\n",
    "for i in range( int(number_of_thetas) ):\n",
    "    job1 = execute(my_circuits[4*i], backend, shots=shots)\n",
    "    result1 = job1.result()\n",
    "    counts1 = result1.get_counts(my_circuits[4*i])\n",
    "    E1 = Cor(counts1, shots)\n",
    "    \n",
    "    job2 = execute(my_circuits[4*i+1], backend, shots=shots)\n",
    "    result2 = job2.result()\n",
    "    counts2 = result2.get_counts(my_circuits[4*i+1])\n",
    "    E2 = Cor(counts2, shots)\n",
    "    \n",
    "    job3 = execute(my_circuits[4*i+2], backend, shots=shots)\n",
    "    result3 = job3.result()\n",
    "    counts3 = result3.get_counts(my_circuits[4*i+2])\n",
    "    E3 = Cor(counts3, shots)\n",
    "    \n",
    "    job4 = execute(my_circuits[4*i+3], backend, shots=shots)\n",
    "    result4 = job4.result()\n",
    "    counts4 = result4.get_counts(my_circuits[4*i+3])\n",
    "    E4 = Cor(counts4, shots)\n",
    "    \n",
    "    E = E1 + E2 + E3 - E4\n",
    "    \n",
    "    theta_vec.append( theta_sequence[i]*360/(2*np.pi) )\n",
    "    cor_vec.append(E)\n",
    "    # print(\"Correlation {:>3f}\".format(E) )\n",
    "    # print(\"Theta Value {:>3f} Grad: {:>3f}\".format( theta_sequence[i],  theta_sequence[i]*360/(2*np.pi)) )\n",
    "    # print(\"\")"
   ]
  },
  {
   "cell_type": "code",
   "execution_count": 8,
   "metadata": {},
   "outputs": [
    {
     "data": {
      "text/plain": [
       "Text(0.5, 0, 'Theta (degree)')"
      ]
     },
     "execution_count": 8,
     "metadata": {},
     "output_type": "execute_result"
    },
    {
     "data": {
      "image/png": "[encoded data removed]",
      "text/plain": [
       "<Figure size 864x576 with 1 Axes>"
      ]
     },
     "metadata": {
      "needs_background": "light"
     },
     "output_type": "display_data"
    }
   ],
   "source": [
    "plt.figure(figsize=(12,8))\n",
    "plt.rcParams.update({'font.size': 22})\n",
    "plt.plot(theta_vec,cor_vec,'o-',label = 'Bell Curve')\n",
    "plt.grid(which='major',axis='both')\n",
    "plt.rcParams.update({'font.size': 16})\n",
    "plt.axhline(y=2, color='r', linestyle='-')\n",
    "plt.axhline(y=-2, color='r', linestyle='-')\n",
    "plt.xlabel('Theta (degree)')"
   ]
  }
 ],
 "metadata": {
  "kernelspec": {
   "display_name": "Python 3 (ipykernel)",
   "language": "python",
   "name": "python3"
  },
  "language_info": {
   "codemirror_mode": {
    "name": "ipython",
    "version": 3
   },
   "file_extension": ".py",
   "mimetype": "text/x-python",
   "name": "python",
   "nbconvert_exporter": "python",
   "pygments_lexer": "ipython3",
   "version": "3.8.12"
  }
 },
 "nbformat": 4,
 "nbformat_minor": 2
}
