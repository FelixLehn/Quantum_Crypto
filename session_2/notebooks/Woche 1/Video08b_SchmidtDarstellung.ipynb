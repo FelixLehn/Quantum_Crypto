{
 "cells": [
  {
   "cell_type": "markdown",
   "metadata": {},
   "source": [
    "## Schmidt-Darstellung\n",
    "\n",
    "Berechnung der Schmidt-Darstellung mit Hilfe von Qiskit und Standardbibliotheken von Python.\n",
    "\n",
    "Berechnet werden die Koeffizienten und Basistransformationsmatrizen."
   ]
  },
  {
   "cell_type": "code",
   "execution_count": 1,
   "metadata": {},
   "outputs": [],
   "source": [
    "from sympy.physics.quantum import Dagger\n",
    "\n",
    "from scipy import linalg\n",
    "from math import sqrt\n",
    "\n",
    "import numpy as np\n",
    "\n",
    "np.set_printoptions(precision=5, suppress=True)"
   ]
  },
  {
   "cell_type": "markdown",
   "metadata": {},
   "source": [
    "Definition des Zustands\n",
    "$$\n",
    "|\\Psi\\rangle = \\frac{1}{\\sqrt{3}}( |001\\rangle + |010\\rangle + |100\\rangle )\n",
    "$$\n",
    "und dessen zugehörige Koeffizientenmatrix\n",
    "$$\n",
    "\\frac{1}{\\sqrt{3}} \\begin{pmatrix}\n",
    "0 & 1 \\\\ 1 & 0 \n",
    "\\end{pmatrix}\n",
    "$$"
   ]
  },
  {
   "cell_type": "code",
   "execution_count": 2,
   "metadata": {},
   "outputs": [
    {
     "name": "stdout",
     "output_type": "stream",
     "text": [
      "Zustand: (|001> + |010> + |100> )/sqrt(3)\n",
      "\n",
      "Koeffizientenmatrix\n",
      "[[0.      0.57735]\n",
      " [0.57735 0.     ]\n",
      " [0.57735 0.     ]\n",
      " [0.      0.     ]]\n",
      "\n",
      "Matrix U\n",
      "[[ 0.       1.     ]\n",
      " [-0.70711  0.     ]\n",
      " [-0.70711  0.     ]\n",
      " [ 0.       0.     ]]\n",
      "\n",
      "Diagonalelemente der Matrix S\n",
      "[0.8165  0.57735]\n",
      "\n",
      "Matrix V_dag\n",
      "[[-1. -0.]\n",
      " [ 0.  1.]]\n"
     ]
    }
   ],
   "source": [
    "print(\"Zustand: (|001> + |010> + |100> )/sqrt(3)\\n\")\n",
    "print(\"Koeffizientenmatrix\" )\n",
    "C = np.array([ [0.0,  1.0], \n",
    "               [1.0,  0.0],\n",
    "               [1.0,  0.0],\n",
    "               [0.0,  0.0]]\n",
    "            )/np.sqrt(3)\n",
    "\n",
    "\n",
    "print(C)\n",
    "\n",
    "U, S, V_dag = linalg.svd(C,full_matrices=False)\n",
    "\n",
    "print(\"\\nMatrix U\")\n",
    "print(U)\n",
    "\n",
    "print(\"\\nDiagonalelemente der Matrix S\")\n",
    "print(S)\n",
    "\n",
    "print(\"\\nMatrix V_dag\")\n",
    "print(V_dag)"
   ]
  },
  {
   "cell_type": "code",
   "execution_count": 3,
   "metadata": {},
   "outputs": [
    {
     "name": "stdout",
     "output_type": "stream",
     "text": [
      "Basis-Vektoren Teil 1\n",
      "[ 0.      -0.70711 -0.70711  0.     ]\n",
      "[1. 0. 0. 0.]\n"
     ]
    }
   ],
   "source": [
    "print(\"Basis-Vektoren Teilsystem 1\")\n",
    "print(U[:,0])\n",
    "print(U[:,1])"
   ]
  },
  {
   "cell_type": "code",
   "execution_count": 4,
   "metadata": {},
   "outputs": [
    {
     "name": "stdout",
     "output_type": "stream",
     "text": [
      "Basis-Vektoren Teil 2\n",
      "[-1. -0.]\n",
      "[0. 1.]\n"
     ]
    }
   ],
   "source": [
    "print(\"Basis-Vektoren Teilsystem 2\")\n",
    "V = Dagger(V_dag) \n",
    "print(V[:,0])\n",
    "print(V[:,1])"
   ]
  },
  {
   "cell_type": "code",
   "execution_count": null,
   "metadata": {},
   "outputs": [],
   "source": []
  }
 ],
 "metadata": {
  "kernelspec": {
   "display_name": "Python 3 (ipykernel)",
   "language": "python",
   "name": "python3"
  },
  "language_info": {
   "codemirror_mode": {
    "name": "ipython",
    "version": 3
   },
   "file_extension": ".py",
   "mimetype": "text/x-python",
   "name": "python",
   "nbconvert_exporter": "python",
   "pygments_lexer": "ipython3",
   "version": "3.8.12"
  }
 },
 "nbformat": 4,
 "nbformat_minor": 2
}
