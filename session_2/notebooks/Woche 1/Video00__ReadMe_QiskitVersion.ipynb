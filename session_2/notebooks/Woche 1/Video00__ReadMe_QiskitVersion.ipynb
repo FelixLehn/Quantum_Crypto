{
 "cells": [
  {
   "cell_type": "markdown",
   "metadata": {},
   "source": [
    "# Einige Vorabinformationen zu den Qiskit-Beispielen\n",
    "\n",
    "Alle in den Vidoes gezeigten Qiskit- bzw. Python-Programme finden Sie hier in Form als \n",
    "Jupiter-Notebooks. Im Notebook-Namen ist auch immer die Video-Nummer angegeben. Die \n",
    "Programmbeispiele unterliegen einer MIT License (siehe Lizenz-Datei) und können somit frei verändern und \n",
    "auch weitergeben werden. \n",
    "\n",
    "### Bemerkungen\n",
    "\n",
    "Ich habe Qiskit lokal innerhalb einer Anaconda3-Installtion installiert, so dass die\n",
    "Ausführung der Simulationen stets lokal erfolgen kann. Beachten Sie, dass auch immer *exakt*,\n",
    "d.h. ohne Störung simuliert wird. Falls Sie die Programme auf einem realen Quantencomputer \n",
    "laufen lassen, erhalten Sie natülich echte *verrauschte* Ergebnisse.\n",
    "\n",
    "Falls Sie einen Account bei IBMQ haben, können Sie einfach den *Provider* austauschen und\n",
    "die Programme direkt auf einem IBM-Quantencomputer laufen lassen. Hier ein Codebeispiel, wie ein\n",
    "Quantencomputer direkt ausgewählt werden kann:\n",
    "\n",
    "```python\n",
    "if not IBMQ.active_account():\n",
    "    IBMQ.load_account()\n",
    "    \n",
    "provider = IBMQ.get_provider('ibm-q')\n",
    "lima = provider.get_backend('ibmq_lima')\n",
    "```\n",
    "\n",
    "Weitere Informationen hierzu finden Sie in der Qiskit-Documentation: __[Qiskit](https://qiskit.org/documentation/getting_started.html)__\n",
    "\n",
    "Alle Programme (Notebooks) wurden mit folgender Qiskit-Version auf auf Lauffähigkeit getestet:\n",
    "\n",
    "\n",
    "### Qiskit-Infos\n",
    "\n",
    "| Qiskit Software          | Version 1 | \n",
    "| ------------------------ | --------- | \n",
    "| qiskit                   |  0.34.1   | \n",
    "| qiskit                   |  0.34.1   |\n",
    "| qiskit-terra             |  0.19.1   |\n",
    "| qiskit-aer               |  0.10.2   |\n",
    "| qiskit-ignis             |  0.7.0    |\n",
    "| qiskit-ibmq-provider     |  0.18.3   |\n",
    "| qiskit-aqua              |  0.9.5    |\n",
    "| qiskit-nature            |  0.3.0    |\n",
    "| qiskit-finance           |  0.3.0    |\n",
    "| qiskit-optimization      |  0.3.0    |\n",
    "| qiskit-machine-learning  |  0.3.0    |\n",
    "\n",
    "### System\n",
    "\n",
    "\n",
    "\n",
    "| Python            |  Version                        |\n",
    "| ----------------- | ------------------------------- |\n",
    "| Python version    |  3.8.12                         |\n",
    "| Python compiler   |  MSC v.1916 64 bit (AMD64)      |\n",
    "| Python build      |  default, Oct 12 2021 03:01:40  |"
   ]
  },
  {
   "cell_type": "markdown",
   "metadata": {},
   "source": [
    "## Ausgabe der Qiskit-Version\n",
    "\n",
    "Mit dem folgenden Befehl können Sie die von Ihnen benutzte Qiskit-Version angezeigt lassen:\n",
    "\n",
    "```python\n",
    "import qiskit.tools.jupyter\n",
    "%qiskit_version_table\n",
    "```"
   ]
  },
  {
   "cell_type": "code",
   "execution_count": 1,
   "metadata": {},
   "outputs": [
    {
     "data": {
      "text/html": [
       "<h3>Version Information</h3><table><tr><th>Qiskit Software</th><th>Version</th></tr><tr><td><code>qiskit-terra</code></td><td>0.19.1</td></tr><tr><td><code>qiskit-aer</code></td><td>0.10.2</td></tr><tr><td><code>qiskit-ignis</code></td><td>0.7.0</td></tr><tr><td><code>qiskit-ibmq-provider</code></td><td>0.18.3</td></tr><tr><td><code>qiskit-aqua</code></td><td>0.9.5</td></tr><tr><td><code>qiskit</code></td><td>0.34.1</td></tr><tr><td><code>qiskit-nature</code></td><td>0.3.0</td></tr><tr><td><code>qiskit-finance</code></td><td>0.3.0</td></tr><tr><td><code>qiskit-optimization</code></td><td>0.3.0</td></tr><tr><td><code>qiskit-machine-learning</code></td><td>0.3.0</td></tr><tr><th>System information</th></tr><tr><td>Python version</td><td>3.8.12</td></tr><tr><td>Python compiler</td><td>MSC v.1916 64 bit (AMD64)</td></tr><tr><td>Python build</td><td>default, Oct 12 2021 03:01:40</td></tr><tr><td>OS</td><td>Windows</td></tr><tr><td>CPUs</td><td>4</td></tr><tr><td>Memory (Gb)</td><td>31.756675720214844</td></tr><tr><td colspan='2'>Fri Sep 23 13:25:53 2022 Mitteleuropäische Sommerzeit</td></tr></table>"
      ],
      "text/plain": [
       "<IPython.core.display.HTML object>"
      ]
     },
     "metadata": {},
     "output_type": "display_data"
    }
   ],
   "source": [
    "# Anzeige der Qiskit-Version\n",
    "import qiskit.tools.jupyter\n",
    "%qiskit_version_table"
   ]
  },
  {
   "cell_type": "code",
   "execution_count": null,
   "metadata": {},
   "outputs": [],
   "source": []
  }
 ],
 "metadata": {
  "kernelspec": {
   "display_name": "Python 3 (ipykernel)",
   "language": "python",
   "name": "python3"
  },
  "language_info": {
   "codemirror_mode": {
    "name": "ipython",
    "version": 3
   },
   "file_extension": ".py",
   "mimetype": "text/x-python",
   "name": "python",
   "nbconvert_exporter": "python",
   "pygments_lexer": "ipython3",
   "version": "3.8.12"
  }
 },
 "nbformat": 4,
 "nbformat_minor": 2
}
